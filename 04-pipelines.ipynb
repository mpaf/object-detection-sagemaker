{
 "cells": [
  {
   "cell_type": "markdown",
   "metadata": {},
   "source": [
    "# Bird Object Detection - SageMaker Pipelines\n",
    "\n",
    "Now that we have trained models and deployed them with SageMaker, we will look into how we can create parametrizable and reproducible ML pipelines with SageMaker Pipelines."
   ]
  },
  {
   "cell_type": "code",
   "execution_count": null,
   "metadata": {},
   "outputs": [],
   "source": [
    "import sagemaker\n",
    "from sagemaker import get_execution_role\n",
    "\n",
    "sess = sagemaker.Session()\n",
    "# this will create a 'default' sagemaker bucket if it doesn't exist (sagemaker-region-accountid)\n",
    "bucket = sess.default_bucket()\n",
    "\n",
    "role = get_execution_role()\n",
    "\n",
    "prefix = \"DEMO-ObjectDetection-birds\"\n",
    "TRAIN_REC_FILE = \"birds_ssd_sample_train.rec\"\n",
    "VAL_REC_FILE = \"birds_ssd_sample_val.rec\"\n",
    "TRAIN_LST_FILE = \"birds_ssd_sample_train.lst\"\n",
    "VAL_LST_FILE = \"birds_ssd_sample_val.lst\"\n",
    "\n",
    "# Upload the RecordIO files to train and validation channels\n",
    "train_channel = prefix + \"/train\"\n",
    "validation_channel = prefix + \"/validation\"\n",
    "\n",
    "sess.upload_data(path=\"birds_ssd_sample_train.rec\", bucket=bucket, key_prefix=train_channel)\n",
    "sess.upload_data(path=\"birds_ssd_sample_val.rec\", bucket=bucket, key_prefix=validation_channel)\n",
    "\n",
    "s3_train_data = \"s3://{}/{}\".format(bucket, train_channel)\n",
    "s3_validation_data = \"s3://{}/{}\".format(bucket, validation_channel)\n",
    "\n",
    "print(s3_train_data)\n",
    "print(s3_validation_data)"
   ]
  },
  {
   "cell_type": "code",
   "execution_count": null,
   "metadata": {},
   "outputs": [],
   "source": [
    "from sagemaker.processing import ProcessingInput, ProcessingOutput\n",
    "from sagemaker.workflow.steps import ProcessingStep\n",
    "from sagemaker.mxnet.estimator import MXNet\n",
    "from sagemaker.processing import FrameworkProcessor\n",
    "\n",
    "from sagemaker import image_uris\n",
    "\n",
    "training_image = image_uris.retrieve(\"mxnet\", sess.boto_region_name, instance_type=\"ml.m5.xlarge\", image_scope=\"training\", version=\"1.8\")\n",
    "print(training_image)\n",
    "\n",
    "mxnet_processor = FrameworkProcessor(\n",
    "    MXNet,\n",
    "    '1.8',\n",
    "    image_uri=training_image,\n",
    "    instance_type=\"ml.m5.large\",\n",
    "    instance_count=1,\n",
    "    base_job_name=\"mxnet-processor\",\n",
    "    role=role,\n",
    "    command=[\"python3\"]\n",
    ")\n",
    "\n",
    "mxnet_processor.run(\n",
    "    code='preprocess.py',\n",
    "    source_dir='src',\n",
    "    outputs=[ProcessingOutput(source='/opt/ml/processing/output/train'),\n",
    "        ProcessingOutput(source='/opt/ml/processing/output/validation')]\n",
    ")"
   ]
  }
 ],
 "metadata": {
  "instance_type": "ml.t3.medium",
  "kernelspec": {
   "display_name": "Python 3 (MXNet 1.8 Python 3.7 CPU Optimized)",
   "language": "python",
   "name": "python3__SAGEMAKER_INTERNAL__arn:aws:sagemaker:eu-central-1:936697816551:image/mxnet-1.8-cpu-py37-ubuntu16.04-v1"
  },
  "language_info": {
   "codemirror_mode": {
    "name": "ipython",
    "version": 3
   },
   "file_extension": ".py",
   "mimetype": "text/x-python",
   "name": "python",
   "nbconvert_exporter": "python",
   "pygments_lexer": "ipython3",
   "version": "3.7.10"
  }
 },
 "nbformat": 4,
 "nbformat_minor": 4
}
